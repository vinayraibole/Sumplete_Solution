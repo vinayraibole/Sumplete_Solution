{
 "cells": [
  {
   "cell_type": "markdown",
   "id": "219ac408-12b2-4c2c-b96a-ea5305a657dc",
   "metadata": {},
   "source": [
    "1.repeat until all rows and columns are completed\n",
    "\n",
    "2.find numbers in rows\n",
    "\n",
    "3.find numbers in col\n",
    "\n",
    "4.proceed to next row n next col\n",
    "\n",
    "5.if not possible go back one step to find better col\n",
    "\n",
    "6.if not possible go back one step to find better row"
   ]
  },
  {
   "cell_type": "code",
   "execution_count": 3,
   "id": "9cbb0dae-6e75-4a1b-abe1-14a0b1c2c73f",
   "metadata": {},
   "outputs": [],
   "source": [
    "import numpy as np\n",
    "import pandas as pd\n",
    "from itertools import combinations as cb"
   ]
  },
  {
   "cell_type": "code",
   "execution_count": 4,
   "id": "06a9af87-1ab5-4c2b-bf99-6cc589f0897c",
   "metadata": {},
   "outputs": [],
   "source": [
    "def find_combinations(array,target):\n",
    "    new_array = [i['value'] if i['marked']=='-' or i['marked']=='Y' else target+1 for i in array]\n",
    "    comb = []\n",
    "    for j in range(1,len(new_array)+1):\n",
    "        x = [i for i in zip(cb(new_array,j),cb(range(len(new_array)),j)) if sum(i[0])==target]\n",
    "        if x:\n",
    "            for i in x:\n",
    "                comb.append(i)\n",
    "    return comb\n",
    "\n",
    "def mark_array(comb, array):\n",
    "    for i in range(len(array)):\n",
    "        if i in comb:\n",
    "            array[i]['marked']='Y'\n",
    "        else:\n",
    "            array[i]['marked']='N'\n",
    "    return array\n",
    "\n",
    "def demark_array(array):\n",
    "    for i in range(len(array)):\n",
    "            array[i]['marked']='-'\n",
    "    return array\n",
    "\n",
    "def isValidComb(comb,array):\n",
    "    for i in range(len(array)):\n",
    "        if array[i]['marked']=='Y' and i not in comb:\n",
    "            return False\n",
    "    return True\n",
    "\n",
    "def isSolved(df,rt,ct):\n",
    "    for i in range(len(df)):\n",
    "        csum = 0\n",
    "        rsum = 0\n",
    "        for j in df.iloc[i]:\n",
    "            if j['marked']=='Y':\n",
    "                rsum += j['value']\n",
    "        for j in df[i]:\n",
    "            if j['marked']=='Y':\n",
    "                csum += j['value'] \n",
    "        if rsum != rt[i] or csum != ct[i]:\n",
    "            return False\n",
    "    return True"
   ]
  },
  {
   "cell_type": "code",
   "execution_count": 5,
   "id": "570f4f0d-8b7c-4ddf-8ce1-bd77f0d8e41c",
   "metadata": {},
   "outputs": [],
   "source": [
    "def solve(df,rt,ct,row_num,col_num):\n",
    "    if row_num == len(df) and col_num == len(df):\n",
    "        return df\n",
    "    \n",
    "    row_target = rt[row_num]\n",
    "    row = df.iloc[row_num]\n",
    "    col = df[col_num]\n",
    "    col_target = ct[col_num]\n",
    "\n",
    "    row_comb = find_combinations(row,row_target)\n",
    "    \n",
    "    while row_comb:\n",
    "        display(df)\n",
    "        selected_row_comb = row_comb.pop()\n",
    "        if isValidComb(selected_row_comb[1],row):\n",
    "            row = mark_array(selected_row_comb[1],row)\n",
    "        else:\n",
    "            continue\n",
    "        col_comb = find_combinations(col,col_target)\n",
    "        while col_comb:\n",
    "            selected_col_comb = col_comb.pop()\n",
    "            if isValidComb(selected_col_comb[1],col):\n",
    "                new_col = mark_array(selected_col_comb[1],col)\n",
    "                row_num+=1\n",
    "                col_num += 1\n",
    "                df = solve(df,rt,ct,row_num,col_num)\n",
    "                if isSolved(df,rt,ct):\n",
    "                    return df\n",
    "                else:\n",
    "                    col = demark_array(col)\n",
    "                    row = mark_array(selected_row_comb[1],row)\n",
    "                    row_num -= 1\n",
    "                    col_num -= 1\n",
    "            else:\n",
    "                continue\n",
    "        row = demark_array(row)\n",
    "    return df"
   ]
  },
  {
   "cell_type": "code",
   "execution_count": 6,
   "id": "4d5f0fed-dd1e-48b8-963a-a7f3fcf06194",
   "metadata": {},
   "outputs": [],
   "source": [
    "matrix = [\n",
    "    #insert matrix here\n",
    "]\n",
    "\n",
    "row_target =[] #insert row targets here\n",
    "column_target = []#insert col targets here\n",
    "\n",
    "new_matrix = []\n",
    "for r in range(len(matrix)):\n",
    "    row = []\n",
    "    for c in range(len(matrix)):\n",
    "        row.append({'value':matrix[r][c],\n",
    "                    'marked':\"-\"})\n",
    "    new_matrix.append(row)\n",
    "df = pd.DataFrame(new_matrix)\n",
    "rt = row_target.copy()\n",
    "ct = column_target.copy()"
   ]
  },
  {
   "cell_type": "code",
   "execution_count": null,
   "id": "bb165d84-ad9a-4c33-be82-1a4e002c28dd",
   "metadata": {},
   "outputs": [],
   "source": [
    "display(solve(df,rt,ct,0,0))"
   ]
  }
 ],
 "metadata": {
  "kernelspec": {
   "display_name": "Python 3 (ipykernel)",
   "language": "python",
   "name": "python3"
  },
  "language_info": {
   "codemirror_mode": {
    "name": "ipython",
    "version": 3
   },
   "file_extension": ".py",
   "mimetype": "text/x-python",
   "name": "python",
   "nbconvert_exporter": "python",
   "pygments_lexer": "ipython3",
   "version": "3.9.7"
  }
 },
 "nbformat": 4,
 "nbformat_minor": 5
}
